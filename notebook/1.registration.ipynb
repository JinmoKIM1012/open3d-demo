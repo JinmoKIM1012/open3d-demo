{
 "cells": [
  {
   "cell_type": "code",
   "execution_count": null,
   "id": "ba9130da-7d47-4b72-ad9c-29855e307a67",
   "metadata": {},
   "outputs": [],
   "source": [
    "import open3d as o3d"
   ]
  }
 ],
 "metadata": {
  "kernelspec": {
   "display_name": "Python 3 (ipykernel)",
   "language": "python",
   "name": "python3"
  },
  "language_info": {
   "codemirror_mode": {
    "name": "ipython",
    "version": 3
   },
   "file_extension": ".py",
   "mimetype": "text/x-python",
   "name": "python",
   "nbconvert_exporter": "python",
   "pygments_lexer": "ipython3",
   "version": "3.8.13"
  }
 },
 "nbformat": 4,
 "nbformat_minor": 5
}
