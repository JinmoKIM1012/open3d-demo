{
 "cells": [
  {
   "cell_type": "code",
   "execution_count": null,
   "id": "6d19080a-2009-4ddf-89b4-d9e3462d93ea",
   "metadata": {},
   "outputs": [],
   "source": [
    "import open3d as o3d\n",
    "import numpy as np\n",
    "import matplotlib.pyplot as plt"
   ]
  },
  {
   "cell_type": "code",
   "execution_count": null,
   "id": "f37250d7",
   "metadata": {},
   "outputs": [],
   "source": [
    "def read_trajectory(filename):\n",
    "    traj = []\n",
    "    with open(filename, \"r\") as f:\n",
    "        metastr = f.readline()\n",
    "        while metastr:\n",
    "            metadata = list(map(int, metastr.split()))\n",
    "            mat = np.zeros(shape=(4, 4))\n",
    "            for i in range(4):\n",
    "                matstr = f.readline()\n",
    "                mat[i, :] = np.fromstring(matstr, dtype=float, sep=\" \\t\")\n",
    "            # traj.append(CameraPose(metadata, mat))\n",
    "            traj.append(mat)\n",
    "            metastr = f.readline()\n",
    "    return traj"
   ]
  },
  {
   "cell_type": "code",
   "execution_count": null,
   "id": "473902dc",
   "metadata": {},
   "outputs": [],
   "source": [
    "def prepare_dataset():\n",
    "    redwood = o3d.data.SampleRedwoodRGBDImages()\n",
    "    camera_poses = read_trajectory(redwood.odometry_log_path)\n",
    "    return redwood, camera_poses\n",
    "\n",
    "\n",
    "redwood, camera_poses = prepare_dataset()"
   ]
  },
  {
   "cell_type": "code",
   "execution_count": null,
   "id": "3eeaad9c",
   "metadata": {},
   "outputs": [],
   "source": [
    "fig = plt.figure(figsize=(12, len(camera_poses) * 4))\n",
    "for i in range(len(camera_poses)):\n",
    "    color = o3d.io.read_image(redwood.color_paths[i])\n",
    "    depth = o3d.io.read_image(redwood.depth_paths[i])\n",
    "    ax1 = fig.add_subplot(len(camera_poses), 2, 1 + 2 * i)\n",
    "    ax1.imshow(np.asarray(color))\n",
    "    ax1.axis(\"off\")\n",
    "    ax2 = fig.add_subplot(len(camera_poses), 2, 2 + 2 * i)\n",
    "    ax2.imshow(np.asarray(depth))\n",
    "    ax2.axis(\"off\")\n",
    "\n",
    "plt.tight_layout()\n",
    "plt.show()"
   ]
  },
  {
   "cell_type": "code",
   "execution_count": null,
   "id": "19d932ce",
   "metadata": {},
   "outputs": [],
   "source": [
    "volume = o3d.pipelines.integration.ScalableTSDFVolume(\n",
    "    voxel_length=4.0 / 512.0,\n",
    "    sdf_trunc=0.04,\n",
    "    color_type=o3d.pipelines.integration.TSDFVolumeColorType.RGB8,\n",
    ")\n",
    "\n",
    "for i in range(len(camera_poses)):\n",
    "    print(\"Integrate {:d}-th image into the volume.\".format(i))\n",
    "    color = o3d.io.read_image(redwood.color_paths[i])\n",
    "    depth = o3d.io.read_image(redwood.depth_paths[i])\n",
    "    rgbd = o3d.geometry.RGBDImage.create_from_color_and_depth(\n",
    "        color, depth, depth_trunc=4.0, convert_rgb_to_intensity=False\n",
    "    )\n",
    "    volume.integrate(\n",
    "        rgbd,\n",
    "        o3d.camera.PinholeCameraIntrinsic(\n",
    "            o3d.camera.PinholeCameraIntrinsicParameters.PrimeSenseDefault\n",
    "        ),\n",
    "        np.linalg.inv(camera_poses[i]),\n",
    "    )"
   ]
  },
  {
   "cell_type": "code",
   "execution_count": null,
   "id": "72ec35fa",
   "metadata": {},
   "outputs": [],
   "source": [
    "print(\"Extract a triangle mesh from the volume and visualize it.\")\n",
    "mesh = volume.extract_triangle_mesh()\n",
    "mesh.compute_vertex_normals()\n",
    "o3d.visualization.draw_geometries(\n",
    "    [mesh],\n",
    "    front=[0.5297, -0.1873, -0.8272],\n",
    "    lookat=[2.0712, 2.0312, 1.7251],\n",
    "    up=[-0.0558, -0.9809, 0.1864],\n",
    "    zoom=0.47,\n",
    ")"
   ]
  },
  {
   "cell_type": "code",
   "execution_count": null,
   "id": "984af624",
   "metadata": {},
   "outputs": [],
   "source": []
  }
 ],
 "metadata": {
  "kernelspec": {
   "display_name": "Python 3.8.13 ('open3d')",
   "language": "python",
   "name": "python3"
  },
  "language_info": {
   "codemirror_mode": {
    "name": "ipython",
    "version": 3
   },
   "file_extension": ".py",
   "mimetype": "text/x-python",
   "name": "python",
   "nbconvert_exporter": "python",
   "pygments_lexer": "ipython3",
   "version": "3.8.13"
  },
  "vscode": {
   "interpreter": {
    "hash": "4e2e78d7be17a1ba932626bfa8907369e94fa71a421e334df4963660b8d86e08"
   }
  }
 },
 "nbformat": 4,
 "nbformat_minor": 5
}
