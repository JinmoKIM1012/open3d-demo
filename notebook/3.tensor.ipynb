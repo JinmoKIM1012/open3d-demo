{
 "cells": [
  {
   "cell_type": "markdown",
   "id": "4d2f6b2e-f9de-4bc7-8e8a-224e5797386c",
   "metadata": {},
   "source": [
    "## Introduction\n",
    "\n",
    "This tutorial demonstrates Open3D tensor implementation.\n",
    "\n",
    "Like tensorflow and pytorch, Open3D provides its own implementation of a tensor, a multidimensional and homogeneous matrix containing elements of single data type. It supports various basis mathematical operators, as well as GPU operations."
   ]
  },
  {
   "cell_type": "code",
   "execution_count": null,
   "id": "57b79e9e-f2a3-4e15-a6bb-5e86d0e4ff36",
   "metadata": {},
   "outputs": [],
   "source": [
    "import open3d as o3d\n",
    "import open3d.core as o3c\n",
    "import numpy as np"
   ]
  },
  {
   "cell_type": "markdown",
   "id": "0b68778a-fb70-49fd-8180-72902183f93e",
   "metadata": {},
   "source": [
    "## 1. Tensor creation\n",
    "\n",
    "We can create an Open3D tensor in similar way with pytorch or tensorflow.\n",
    "A tensor can be initialize from a list or numpy array, with data type and device arguments."
   ]
  },
  {
   "cell_type": "code",
   "execution_count": null,
   "id": "6eb4ca07-5f91-43b1-b83f-1010889016de",
   "metadata": {},
   "outputs": [],
   "source": [
    "# Tensor from list.\n",
    "a = o3c.Tensor([0, 1, 2])\n",
    "print(\"Created from list:\\n{}\".format(a))\n",
    "\n",
    "# Tensor from Numpy.\n",
    "a = o3c.Tensor(np.array([0, 1, 2]))\n",
    "print(\"\\nCreated from numpy array:\\n{}\".format(a))\n",
    "\n",
    "# Dtype and inferred from list.\n",
    "a_float = o3c.Tensor([0.0, 1.0, 2.0])\n",
    "print(\"\\nDefault dtype and device:\\n{}\".format(a_float))\n",
    "\n",
    "# Specify dtype.\n",
    "a = o3c.Tensor(np.array([0, 1, 2]), dtype=o3c.Dtype.Float64)\n",
    "print(\"\\nSpecified data type:\\n{}\".format(a))\n",
    "\n",
    "# Specify device.\n",
    "a = o3c.Tensor(np.array([0, 1, 2]), device=o3c.Device(\"CUDA:0\"))\n",
    "print(\"\\nSpecified device:\\n{}\".format(a))"
   ]
  },
  {
   "cell_type": "markdown",
   "id": "87e8bb83-e26a-4a77-8596-28f613db263b",
   "metadata": {},
   "source": [
    "## 2. Tensor properties\n",
    "\n",
    "Like pytorch, the properties of an Open3D tensor can be accessed like this."
   ]
  },
  {
   "cell_type": "code",
   "execution_count": null,
   "id": "5b59e225-6dd0-4dba-850f-b5c562308fde",
   "metadata": {},
   "outputs": [],
   "source": [
    "vals = np.array((range(24))).reshape(2, 3, 4)\n",
    "a = o3c.Tensor(vals, dtype=o3c.Dtype.Float64, device=o3c.Device(\"CUDA:0\"))\n",
    "print(f\"a.shape: {a.shape}\")\n",
    "print(f\"a.strides: {a.strides}\")\n",
    "print(f\"a.dtype: {a.dtype}\")\n",
    "print(f\"a.device: {a.device}\")\n",
    "print(f\"a.ndim: {a.ndim}\")"
   ]
  },
  {
   "cell_type": "markdown",
   "id": "39a0b47b-a025-47e2-8b1e-fca6e77dd6e1",
   "metadata": {},
   "source": [
    "## 3. Tensor Copy & Device transfer\n",
    "A tensor can be transferred between devices."
   ]
  },
  {
   "cell_type": "code",
   "execution_count": null,
   "id": "9cfbedf8-8f87-4db9-9fa3-448a5297fbe7",
   "metadata": {},
   "outputs": [],
   "source": [
    "# Host -> Device.\n",
    "a_cpu = o3c.Tensor([0, 1, 2])\n",
    "a_gpu = a_cpu.cuda(0)\n",
    "print(a_gpu)\n",
    "\n",
    "# Device -> Host.\n",
    "a_gpu = o3c.Tensor([0, 1, 2], device=o3c.Device(\"CUDA:0\"))\n",
    "a_cpu = a_gpu.cpu()\n",
    "print(a_cpu)\n",
    "\n",
    "# Device -> another Device.\n",
    "a_gpu_0 = o3c.Tensor([0, 1, 2], device=o3c.Device(\"CUDA:0\"))\n",
    "a_gpu_1 = a_gpu_0.cuda(0)\n",
    "print(a_gpu_1)"
   ]
  },
  {
   "cell_type": "markdown",
   "id": "aab43d81-c5b4-458b-8649-d109f0a0f852",
   "metadata": {},
   "source": [
    "## 4. Data types.\n",
    "The data type of a tensor can be casted."
   ]
  },
  {
   "cell_type": "code",
   "execution_count": null,
   "id": "d974a333-5ac0-4ca8-9c6b-eca1b434f244",
   "metadata": {},
   "outputs": [],
   "source": [
    "# E.g. float -> int\n",
    "a = o3c.Tensor([0.1, 1.5, 2.7])\n",
    "b = a.to(o3c.Dtype.Int32)\n",
    "print(a)\n",
    "print(b)"
   ]
  },
  {
   "cell_type": "markdown",
   "id": "efa45140-9929-4ca2-b134-9e5ef2abbe0d",
   "metadata": {},
   "source": [
    "## 5. Conversion from pytorch's tensor\n",
    "\n",
    "Open3D tensor can be smoothly converted to pytorch tensor using the below code."
   ]
  },
  {
   "cell_type": "code",
   "execution_count": null,
   "id": "5ae35ec7-95f2-4791-970d-152fba3ac8bd",
   "metadata": {},
   "outputs": [],
   "source": [
    "import torch\n",
    "import torch.utils.dlpack\n",
    "\n",
    "# From PyTorch\n",
    "th_a = torch.ones((5,)).cuda(0)\n",
    "o3_a = o3c.Tensor.from_dlpack(torch.utils.dlpack.to_dlpack(th_a))\n",
    "print(f\"th_a: {th_a}\")\n",
    "print(f\"o3_a: {o3_a}\")\n",
    "print(\"\")\n",
    "\n",
    "# Changes to PyTorch array reflects on open3d Tensor and vice versa\n",
    "th_a[0] = 100\n",
    "o3_a[1] = 200\n",
    "print(f\"th_a: {th_a}\")\n",
    "print(f\"o3_a: {o3_a}\")\n",
    "\n",
    "# To PyTorch\n",
    "o3_a = o3c.Tensor([1, 1, 1, 1, 1], device=o3c.Device(\"CUDA:0\"))\n",
    "th_a = torch.utils.dlpack.from_dlpack(o3_a.to_dlpack())\n",
    "o3_a = o3c.Tensor.from_dlpack(torch.utils.dlpack.to_dlpack(th_a))\n",
    "print(f\"th_a: {th_a}\")\n",
    "print(f\"o3_a: {o3_a}\")\n",
    "print(\"\")\n",
    "\n",
    "# Changes to PyTorch array reflects on open3d Tensor and vice versa\n",
    "th_a[0] = 100\n",
    "o3_a[1] = 200\n",
    "print(f\"th_a: {th_a}\")\n",
    "print(f\"o3_a: {o3_a}\")"
   ]
  },
  {
   "cell_type": "markdown",
   "id": "b86df165-43a1-4f34-a184-5daa5a963b80",
   "metadata": {},
   "source": [
    "## 6. Binary element-wise operation\n",
    "Various binary element-wise operations are supported."
   ]
  },
  {
   "cell_type": "code",
   "execution_count": null,
   "id": "4073751c-2120-4e92-96ab-5a94a8a53315",
   "metadata": {},
   "outputs": [],
   "source": [
    "a = o3c.Tensor([1, 1, 1], dtype=o3c.Dtype.Float32)\n",
    "b = o3c.Tensor([2, 2, 2], dtype=o3c.Dtype.Float32)\n",
    "print(\"a + b = {}\".format(a + b))\n",
    "print(\"a - b = {}\".format(a - b))\n",
    "print(\"a * b = {}\".format(a * b))\n",
    "print(\"a / b = {}\".format(a / b))"
   ]
  },
  {
   "cell_type": "markdown",
   "id": "994cd70b-54cc-487d-b72c-ea91ec99d947",
   "metadata": {},
   "source": [
    "## 7. Unary element-wise operation\n",
    "Various Unary element-wise operations are supported."
   ]
  },
  {
   "cell_type": "code",
   "execution_count": null,
   "id": "4e1d5ed3-3b99-4f86-abab-57b505ada1a1",
   "metadata": {},
   "outputs": [],
   "source": [
    "a = o3c.Tensor([4, 9, 16], dtype=o3c.Dtype.Float32)\n",
    "print(\"a = {}\\n\".format(a))\n",
    "print(\"a.sqrt = {}\\n\".format(a.sqrt()))\n",
    "print(\"a.sin = {}\\n\".format(a.sin()))\n",
    "print(\"a.cos = {}\\n\".format(a.cos()))\n",
    "\n",
    "# Inplace operation\n",
    "a.sqrt_()\n",
    "print(a)"
   ]
  },
  {
   "cell_type": "markdown",
   "id": "a94114c2-62aa-48db-871a-beca5f12e8d4",
   "metadata": {},
   "source": [
    "## 8. Reduction\n",
    "It supports various reduction operations, such as sum, mean, etc."
   ]
  },
  {
   "cell_type": "code",
   "execution_count": null,
   "id": "e0582202-659c-403e-9977-a51c5ad5c543",
   "metadata": {},
   "outputs": [],
   "source": [
    "vals = np.array(range(24)).reshape((2, 3, 4))\n",
    "a = o3c.Tensor(vals)\n",
    "print(\"a.sum = {}\\n\".format(a.sum()))\n",
    "print(\"a.min = {}\\n\".format(a.min()))\n",
    "print(\"a.ArgMax = {}\\n\".format(a.argmax()))"
   ]
  },
  {
   "cell_type": "markdown",
   "id": "9d3e70b0-7328-4ac6-834e-d3c8b3ff2b6f",
   "metadata": {},
   "source": [
    "We can also specify the dimension to perform reduction operations."
   ]
  },
  {
   "cell_type": "code",
   "execution_count": null,
   "id": "7505a8d9-790a-479f-af6a-1a19cf311066",
   "metadata": {},
   "outputs": [],
   "source": [
    "# With specified dimension.\n",
    "vals = np.array(range(24)).reshape((2, 3, 4))\n",
    "a = o3c.Tensor(vals)\n",
    "\n",
    "print(\"Along dim=0\\n{}\".format(a.sum(dim=(0))))\n",
    "print(\"Along dim=(0, 2)\\n{}\\n\".format(a.sum(dim=(0, 2))))\n",
    "\n",
    "# Retention of reduced dimension.\n",
    "print(\"Shape without retention : {}\".format(a.sum(dim=(0, 2)).shape))\n",
    "print(\"Shape with retention : {}\".format(a.sum(dim=(0, 2), keepdim=True).shape))"
   ]
  },
  {
   "cell_type": "markdown",
   "id": "40d2a929-b863-4d03-934f-2787957ceea5",
   "metadata": {},
   "source": [
    "## 9. Slicing\n",
    "We can using the below code for slicing. It is similar with pytorch and numpy."
   ]
  },
  {
   "cell_type": "code",
   "execution_count": null,
   "id": "db9f3349-2273-4f5a-80b7-99396f758e72",
   "metadata": {},
   "outputs": [],
   "source": [
    "vals = np.array(range(24)).reshape((2, 3, 4))\n",
    "a = o3c.Tensor(vals)\n",
    "print(\"a = \\n{}\\n\".format(a))\n",
    "\n",
    "# Indexing __getitem__.\n",
    "print(\"a[1, 2] = {}\\n\".format(a[1, 2]))\n",
    "\n",
    "# Slicing __getitem__.\n",
    "print(\"a[1:] = \\n{}\\n\".format(a[1:]))\n",
    "\n",
    "# slice object.\n",
    "print(\"a[:, 0:3:2, :] = \\n{}\\n\".format(a[:, 0:3:2, :]))\n",
    "\n",
    "# Combined __getitem__\n",
    "print(\"a[:-1, 0:3:2, 2] = \\n{}\\n\".format(a[:-1, 0:3:2, 2]))"
   ]
  },
  {
   "cell_type": "markdown",
   "id": "5314a7ca-7c3b-45a0-80c4-4f6f82befff9",
   "metadata": {},
   "source": [
    "## 10. Logical operations\n",
    "It supports various logical operations"
   ]
  },
  {
   "cell_type": "code",
   "execution_count": null,
   "id": "cb85e586-5c29-4fad-90af-1c5815000da0",
   "metadata": {},
   "outputs": [],
   "source": [
    "a = o3c.Tensor(np.array([True, False, True, False]))\n",
    "b = o3c.Tensor(np.array([True, True, False, False]))\n",
    "\n",
    "print(\"a AND b = {}\".format(a.logical_and(b)))\n",
    "print(\"a OR b = {}\".format(a.logical_or(b)))\n",
    "print(\"a XOR b = {}\".format(a.logical_xor(b)))\n",
    "print(\"NOT a = {}\\n\".format(a.logical_not()))\n",
    "\n",
    "# Only works for boolean tensors.\n",
    "print(\"a.any = {}\".format(a.any()))\n",
    "print(\"a.all = {}\\n\".format(a.all()))\n",
    "\n",
    "# If tensor is not boolean, 0 will be treated as False, while non-zero as true.\n",
    "# The tensor will be filled with 0 or 1 casted to tensor's dtype.\n",
    "c = o3c.Tensor(np.array([2.0, 0.0, 3.5, 0.0]))\n",
    "d = o3c.Tensor(np.array([0.0, 3.0, 1.5, 0.0]))\n",
    "print(\"c AND d = {}\".format(c.logical_and(d)))"
   ]
  },
  {
   "cell_type": "markdown",
   "id": "f2c05f59-76d5-4c83-861c-2d5ea1cc02d6",
   "metadata": {},
   "source": [
    "## 11. Comparision operations\n",
    "It supports various comparison operations."
   ]
  },
  {
   "cell_type": "code",
   "execution_count": null,
   "id": "c3d25fc3-7ebd-4dfa-81ed-633f0d8ca56d",
   "metadata": {},
   "outputs": [],
   "source": [
    "a = o3c.Tensor([0, 1, -1])\n",
    "b = o3c.Tensor([0, 0, 0])\n",
    "\n",
    "print(\"a > b = {}\".format(a > b))\n",
    "print(\"a >= b = {}\".format(a >= b))\n",
    "print(\"a < b = {}\".format(a < b))\n",
    "print(\"a <= b = {}\".format(a <= b))\n",
    "print(\"a == b = {}\".format(a == b))\n",
    "print(\"a != b = {}\".format(a != b))\n",
    "\n",
    "# Throws exception if device/dtype is not shape.\n",
    "# If shape is not same, then tensors should be broadcast compatible.\n",
    "print(\"a > b = {}\".format(a > b[0]))"
   ]
  },
  {
   "cell_type": "markdown",
   "id": "7891d0a5-5c7e-4844-9fe1-188dbdaaa4f2",
   "metadata": {},
   "source": [
    "## 12. Nearest Neighbor Search\n",
    "Finally, Open3D is shipped with an efficient implementation for various types of neighbor searches, including K-nearest neighbor search, radius-based search, and hybrid search.\n",
    "\n",
    "All of the search methods are supported on both CPU and GPU."
   ]
  },
  {
   "cell_type": "markdown",
   "id": "06dace5a-414f-4297-8b65-befa11077329",
   "metadata": {},
   "source": [
    "### 1. Data preparation\n",
    "\n",
    "In this tutorial, we use ArmadilloMesh to demonstrate neighbor search methods."
   ]
  },
  {
   "cell_type": "code",
   "execution_count": null,
   "id": "38a9eeda-39c4-4207-a755-260e3047ddba",
   "metadata": {},
   "outputs": [],
   "source": [
    "armadillo = o3d.data.ArmadilloMesh()"
   ]
  },
  {
   "cell_type": "markdown",
   "id": "9fa93f8f-fb87-47f0-8f93-4268c28b366f",
   "metadata": {},
   "source": [
    "We use the vertices of mesh and convert it into Open3D tensor"
   ]
  },
  {
   "cell_type": "code",
   "execution_count": null,
   "id": "677c1d44-5032-4672-b898-370ef2f3e894",
   "metadata": {},
   "outputs": [],
   "source": [
    "mesh = o3d.io.read_triangle_mesh(armadillo.path)\n",
    "points = np.asarray(mesh.vertices)\n",
    "points_tensor = o3c.Tensor(points)"
   ]
  },
  {
   "cell_type": "markdown",
   "id": "d3ed40ee-7e77-4da3-b2c8-311a67511623",
   "metadata": {},
   "source": [
    "### 2. Initialize NearestNeighborSearch module\n",
    "\n",
    "We can initialize ```NearestNeighborSearch``` module using the below code. \n",
    "Once the module is constructed, we can use it for searching neighbors with various search mode."
   ]
  },
  {
   "cell_type": "code",
   "execution_count": null,
   "id": "ba20d456-b97c-457a-b707-49ff6f8de5f8",
   "metadata": {},
   "outputs": [],
   "source": [
    "index = o3d.core.nns.NearestNeighborSearch(points_tensor)"
   ]
  },
  {
   "cell_type": "markdown",
   "id": "8d190e76-3699-468e-951a-2d46514c8e8b",
   "metadata": {},
   "source": [
    "### 3. Knn Search\n",
    "To perform k-nearest neighbor search, we first need to setup ```NearestNeighborSearch``` module with ```knn_index()``` function.\n",
    "Once the module is set up, we can perform knn search using ```knn_search``` method. \n",
    "```query``` tensor and ```knn``` value should be passed as input arguments."
   ]
  },
  {
   "cell_type": "code",
   "execution_count": null,
   "id": "7c748adf-96de-4cbe-86ab-0ed7188a87a4",
   "metadata": {},
   "outputs": [],
   "source": [
    "index.knn_index()\n",
    "indices, distances = index.knn_search(points_tensor, knn=10)"
   ]
  },
  {
   "cell_type": "markdown",
   "id": "204bf235-754e-46be-9436-3f0bf2bdf8e6",
   "metadata": {},
   "source": [
    "### 4. Radius Search\n",
    "To perform radius-based neighbor search, we first need to setup ```NearestNeighborSearch``` module with ```fixed_radius_index()``` function.\n",
    "Once the module is set up, we can perform knn search using ```fixed_radius_search``` method. \n",
    "```query``` tensor and ```radius``` value should be passed as input arguments."
   ]
  },
  {
   "cell_type": "code",
   "execution_count": null,
   "id": "8ca61b60-2b0c-45cc-9f14-3885e29a99ee",
   "metadata": {},
   "outputs": [],
   "source": [
    "index.fixed_radius_index(radius=0.1)\n",
    "indices, distances, neighbor_splits = index.fixed_radius_search(\n",
    "    points_tensor, radius=0.1\n",
    ")"
   ]
  },
  {
   "cell_type": "markdown",
   "id": "b69238f9-bffe-4f85-a928-68ddca94c381",
   "metadata": {},
   "source": [
    "### 5. Hybrid Search\n",
    "Fianlly, to perform hybrid search (radius search + knn search), we first need to setup ```NearestNeighborSearch``` module with ```hybrid_index()``` function.\n",
    "Once the module is set up, we can perform knn search using ```hybrid_search``` method. \n",
    "```query``` tensor, ```radius``` value, and ```max_knn``` value should be passed as input arguments."
   ]
  },
  {
   "cell_type": "code",
   "execution_count": null,
   "id": "e1bf6022-7a8b-4af8-b091-1467d894d1e0",
   "metadata": {},
   "outputs": [],
   "source": [
    "index.hybrid_index(radius=0.1)\n",
    "indices, distances, num_neighbors = index.hybrid_search(\n",
    "    points_tensor, radius=0.3, max_knn=10\n",
    ")"
   ]
  }
 ],
 "metadata": {
  "kernelspec": {
   "display_name": "Python 3 (ipykernel)",
   "language": "python",
   "name": "python3"
  },
  "language_info": {
   "codemirror_mode": {
    "name": "ipython",
    "version": 3
   },
   "file_extension": ".py",
   "mimetype": "text/x-python",
   "name": "python",
   "nbconvert_exporter": "python",
   "pygments_lexer": "ipython3",
   "version": "3.8.13"
  }
 },
 "nbformat": 4,
 "nbformat_minor": 5
}
